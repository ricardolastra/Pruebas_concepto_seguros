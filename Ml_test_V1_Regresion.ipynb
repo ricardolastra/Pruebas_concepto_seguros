{
 "cells": [
  {
   "cell_type": "markdown",
   "metadata": {},
   "source": [
    "# Modelo de propensión de pago de primas"
   ]
  },
  {
   "cell_type": "markdown",
   "metadata": {},
   "source": [
    "* Modelo con idea concepto para prueba de herramienta dimensional insight 7.0\n",
    "\n",
    "* Se validan desempeño y funcionalidad de librerías, interacción de gráficos y facilidad de conexión con DB y variables reales."
   ]
  },
  {
   "cell_type": "code",
   "execution_count": 1,
   "metadata": {},
   "outputs": [],
   "source": [
    "import matplotlib.pyplot as plt\n",
    "%matplotlib inline\n",
    "import numpy as np\n",
    "from pylab import *\n",
    "import seaborn as sns\n",
    "import pandas as pd\n",
    "from scipy import stats\n",
    "import csv"
   ]
  },
  {
   "cell_type": "code",
   "execution_count": 2,
   "metadata": {},
   "outputs": [
    {
     "data": {
      "text/html": [
       "<div>\n",
       "<style scoped>\n",
       "    .dataframe tbody tr th:only-of-type {\n",
       "        vertical-align: middle;\n",
       "    }\n",
       "\n",
       "    .dataframe tbody tr th {\n",
       "        vertical-align: top;\n",
       "    }\n",
       "\n",
       "    .dataframe thead th {\n",
       "        text-align: right;\n",
       "    }\n",
       "</style>\n",
       "<table border=\"1\" class=\"dataframe\">\n",
       "  <thead>\n",
       "    <tr style=\"text-align: right;\">\n",
       "      <th></th>\n",
       "      <th>Nombre Director</th>\n",
       "      <th>Mes Contable</th>\n",
       "      <th>Emitida</th>\n",
       "      <th>Pagada</th>\n",
       "      <th>Devengada</th>\n",
       "      <th>Siniestros</th>\n",
       "      <th>Docs</th>\n",
       "      <th>Emitida Acumulada</th>\n",
       "      <th>Pagada Acumulada</th>\n",
       "      <th>Devengada Acumulada</th>\n",
       "      <th>Siniestros Acumulada</th>\n",
       "      <th>Docs Acumulados</th>\n",
       "    </tr>\n",
       "  </thead>\n",
       "  <tbody>\n",
       "    <tr>\n",
       "      <th>0</th>\n",
       "      <td>JERRY T. O HEA</td>\n",
       "      <td>2018-01</td>\n",
       "      <td>538292875.7</td>\n",
       "      <td>323263784.7</td>\n",
       "      <td>300193126.4</td>\n",
       "      <td>132930719.5</td>\n",
       "      <td>19300</td>\n",
       "      <td>5.382929e+08</td>\n",
       "      <td>3.232638e+08</td>\n",
       "      <td>3.001931e+08</td>\n",
       "      <td>132930719.5</td>\n",
       "      <td>19300</td>\n",
       "    </tr>\n",
       "    <tr>\n",
       "      <th>1</th>\n",
       "      <td>JERRY T. O HEA</td>\n",
       "      <td>2018-02</td>\n",
       "      <td>276759161.6</td>\n",
       "      <td>286109815.7</td>\n",
       "      <td>270398485.0</td>\n",
       "      <td>141718986.6</td>\n",
       "      <td>17150</td>\n",
       "      <td>8.150520e+08</td>\n",
       "      <td>6.093736e+08</td>\n",
       "      <td>5.705916e+08</td>\n",
       "      <td>274649706.1</td>\n",
       "      <td>36450</td>\n",
       "    </tr>\n",
       "    <tr>\n",
       "      <th>2</th>\n",
       "      <td>JERRY T. O HEA</td>\n",
       "      <td>2018-03</td>\n",
       "      <td>298684055.7</td>\n",
       "      <td>274638604.3</td>\n",
       "      <td>295751764.6</td>\n",
       "      <td>324129412.9</td>\n",
       "      <td>18128</td>\n",
       "      <td>1.113736e+09</td>\n",
       "      <td>8.840122e+08</td>\n",
       "      <td>8.663434e+08</td>\n",
       "      <td>598779119.0</td>\n",
       "      <td>54578</td>\n",
       "    </tr>\n",
       "    <tr>\n",
       "      <th>3</th>\n",
       "      <td>JERRY T. O HEA</td>\n",
       "      <td>2018-04</td>\n",
       "      <td>331100754.3</td>\n",
       "      <td>392767205.1</td>\n",
       "      <td>286279239.2</td>\n",
       "      <td>170254339.3</td>\n",
       "      <td>16445</td>\n",
       "      <td>1.444837e+09</td>\n",
       "      <td>1.276779e+09</td>\n",
       "      <td>1.152623e+09</td>\n",
       "      <td>769033458.3</td>\n",
       "      <td>71023</td>\n",
       "    </tr>\n",
       "    <tr>\n",
       "      <th>4</th>\n",
       "      <td>JERRY T. O HEA</td>\n",
       "      <td>2018-05</td>\n",
       "      <td>305097829.8</td>\n",
       "      <td>267392998.5</td>\n",
       "      <td>296981889.6</td>\n",
       "      <td>183180070.3</td>\n",
       "      <td>18089</td>\n",
       "      <td>1.749935e+09</td>\n",
       "      <td>1.544172e+09</td>\n",
       "      <td>1.449605e+09</td>\n",
       "      <td>952213528.6</td>\n",
       "      <td>89112</td>\n",
       "    </tr>\n",
       "  </tbody>\n",
       "</table>\n",
       "</div>"
      ],
      "text/plain": [
       "  Nombre Director Mes Contable      Emitida       Pagada    Devengada  \\\n",
       "0  JERRY T. O HEA      2018-01  538292875.7  323263784.7  300193126.4   \n",
       "1  JERRY T. O HEA      2018-02  276759161.6  286109815.7  270398485.0   \n",
       "2  JERRY T. O HEA      2018-03  298684055.7  274638604.3  295751764.6   \n",
       "3  JERRY T. O HEA      2018-04  331100754.3  392767205.1  286279239.2   \n",
       "4  JERRY T. O HEA      2018-05  305097829.8  267392998.5  296981889.6   \n",
       "\n",
       "    Siniestros   Docs  Emitida Acumulada  Pagada Acumulada  \\\n",
       "0  132930719.5  19300       5.382929e+08      3.232638e+08   \n",
       "1  141718986.6  17150       8.150520e+08      6.093736e+08   \n",
       "2  324129412.9  18128       1.113736e+09      8.840122e+08   \n",
       "3  170254339.3  16445       1.444837e+09      1.276779e+09   \n",
       "4  183180070.3  18089       1.749935e+09      1.544172e+09   \n",
       "\n",
       "   Devengada Acumulada  Siniestros Acumulada  Docs Acumulados  \n",
       "0         3.001931e+08           132930719.5            19300  \n",
       "1         5.705916e+08           274649706.1            36450  \n",
       "2         8.663434e+08           598779119.0            54578  \n",
       "3         1.152623e+09           769033458.3            71023  \n",
       "4         1.449605e+09           952213528.6            89112  "
      ]
     },
     "execution_count": 2,
     "metadata": {},
     "output_type": "execute_result"
    }
   ],
   "source": [
    "df = pd.read_csv(\"Emicobsin_completo_2018.csv\", sep = \",\", encoding = \"ISO-8859-1\")\n",
    "df = df.fillna(0)\n",
    "df.head()"
   ]
  },
  {
   "cell_type": "code",
   "execution_count": 3,
   "metadata": {},
   "outputs": [
    {
     "name": "stderr",
     "output_type": "stream",
     "text": [
      "C:\\Users\\Administrador\\AppData\\Local\\Continuum\\anaconda3\\lib\\site-packages\\seaborn\\axisgrid.py:2065: UserWarning: The `size` parameter has been renamed to `height`; pleaes update your code.\n",
      "  warnings.warn(msg, UserWarning)\n"
     ]
    },
    {
     "data": {
      "text/plain": [
       "<seaborn.axisgrid.PairGrid at 0x215ca9c0630>"
      ]
     },
     "execution_count": 3,
     "metadata": {},
     "output_type": "execute_result"
    },
    {
     "data": {
      "image/png": "[encoded data removed]",
      "text/plain": [
       "<Figure size 491.875x360 with 1 Axes>"
      ]
     },
     "metadata": {
      "needs_background": "light"
     },
     "output_type": "display_data"
    }
   ],
   "source": [
    "sns.pairplot(x_vars=['Emitida'], y_vars=['Pagada'], data=df, hue=\"Nombre Director\", size=5)"
   ]
  },
  {
   "cell_type": "code",
   "execution_count": 4,
   "metadata": {},
   "outputs": [],
   "source": [
    "df2 = df.loc[df['Nombre Director'] == 'MICHAEL SCHITTEK']"
   ]
  },
  {
   "cell_type": "code",
   "execution_count": 5,
   "metadata": {},
   "outputs": [
    {
     "name": "stderr",
     "output_type": "stream",
     "text": [
      "C:\\Users\\Administrador\\AppData\\Local\\Continuum\\anaconda3\\lib\\site-packages\\seaborn\\axisgrid.py:2065: UserWarning: The `size` parameter has been renamed to `height`; pleaes update your code.\n",
      "  warnings.warn(msg, UserWarning)\n"
     ]
    },
    {
     "data": {
      "text/plain": [
       "<seaborn.axisgrid.PairGrid at 0x215ce5f2b00>"
      ]
     },
     "execution_count": 5,
     "metadata": {},
     "output_type": "execute_result"
    },
    {
     "data": {
      "image/png": "[encoded data removed]",
      "text/plain": [
       "<Figure size 491.875x360 with 1 Axes>"
      ]
     },
     "metadata": {
      "needs_background": "light"
     },
     "output_type": "display_data"
    }
   ],
   "source": [
    "sns.pairplot(x_vars=['Emitida'], y_vars=['Pagada'], data=df2, hue=\"Nombre Director\", size=5)"
   ]
  },
  {
   "cell_type": "code",
   "execution_count": 6,
   "metadata": {},
   "outputs": [],
   "source": [
    "slope, intercept, r_value, p_value, std_err = stats.linregress(df2['Emitida'], df2['Pagada'])"
   ]
  },
  {
   "cell_type": "code",
   "execution_count": 7,
   "metadata": {},
   "outputs": [
    {
     "data": {
      "text/plain": [
       "0.05997515958426161"
      ]
     },
     "execution_count": 7,
     "metadata": {},
     "output_type": "execute_result"
    }
   ],
   "source": [
    "r_value ** 2"
   ]
  },
  {
   "cell_type": "code",
   "execution_count": 8,
   "metadata": {},
   "outputs": [
    {
     "data": {
      "image/png": "[encoded data removed]",
      "text/plain": [
       "<Figure size 432x288 with 1 Axes>"
      ]
     },
     "metadata": {
      "needs_background": "light"
     },
     "output_type": "display_data"
    }
   ],
   "source": [
    "def predict(x):\n",
    "    return slope * x + intercept\n",
    "\n",
    "fitLine = predict(df2['Pagada'])\n",
    "\n",
    "plt.scatter(df2['Emitida'], df2['Pagada'])\n",
    "plt.plot(df2['Emitida'], fitLine, c='r')\n",
    "plt.show()"
   ]
  },
  {
   "cell_type": "code",
   "execution_count": null,
   "metadata": {},
   "outputs": [],
   "source": []
  }
 ],
 "metadata": {
  "kernelspec": {
   "display_name": "Python 3",
   "language": "python",
   "name": "python3"
  },
  "language_info": {
   "codemirror_mode": {
    "name": "ipython",
    "version": 3
   },
   "file_extension": ".py",
   "mimetype": "text/x-python",
   "name": "python",
   "nbconvert_exporter": "python",
   "pygments_lexer": "ipython3",
   "version": "3.7.3"
  }
 },
 "nbformat": 4,
 "nbformat_minor": 2
}
