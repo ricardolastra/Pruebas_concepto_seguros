{
 "cells": [
  {
   "cell_type": "markdown",
   "metadata": {},
   "source": [
    "# Modelo de propensión de renovación de seguros"
   ]
  },
  {
   "cell_type": "markdown",
   "metadata": {},
   "source": [
    "* Modelo con idea concepto para prueba de herramienta dimensional insight 7.0\n",
    "\n",
    "* Se validan desempeño u funcionalidad de librerías, interacción de gráficos y facilidad de conexión con DB y variables reales."
   ]
  },
  {
   "cell_type": "code",
   "execution_count": 1,
   "metadata": {},
   "outputs": [],
   "source": [
    "from sklearn.naive_bayes import GaussianNB\n",
    "import pandas as pd\n",
    "import csv"
   ]
  },
  {
   "cell_type": "code",
   "execution_count": 2,
   "metadata": {},
   "outputs": [
    {
     "data": {
      "text/html": [
       "<div>\n",
       "<style scoped>\n",
       "    .dataframe tbody tr th:only-of-type {\n",
       "        vertical-align: middle;\n",
       "    }\n",
       "\n",
       "    .dataframe tbody tr th {\n",
       "        vertical-align: top;\n",
       "    }\n",
       "\n",
       "    .dataframe thead th {\n",
       "        text-align: right;\n",
       "    }\n",
       "</style>\n",
       "<table border=\"1\" class=\"dataframe\">\n",
       "  <thead>\n",
       "    <tr style=\"text-align: right;\">\n",
       "      <th></th>\n",
       "      <th>nom_mes_renov</th>\n",
       "      <th>año</th>\n",
       "      <th>mes_renov</th>\n",
       "      <th>mes_reg</th>\n",
       "      <th>anterior</th>\n",
       "      <th>nueva</th>\n",
       "      <th>diferencia</th>\n",
       "      <th>vehiculo</th>\n",
       "      <th>estimacion</th>\n",
       "      <th>pagos</th>\n",
       "      <th>gastos</th>\n",
       "      <th>ajustes</th>\n",
       "      <th>saldo</th>\n",
       "      <th>cp</th>\n",
       "      <th>edad</th>\n",
       "      <th>renovo</th>\n",
       "    </tr>\n",
       "  </thead>\n",
       "  <tbody>\n",
       "    <tr>\n",
       "      <th>0</th>\n",
       "      <td>AGO</td>\n",
       "      <td>2017</td>\n",
       "      <td>8</td>\n",
       "      <td>8</td>\n",
       "      <td>22103</td>\n",
       "      <td>21603</td>\n",
       "      <td>500</td>\n",
       "      <td>11284</td>\n",
       "      <td>4000.0</td>\n",
       "      <td>0.0</td>\n",
       "      <td>0.0</td>\n",
       "      <td>0.0</td>\n",
       "      <td>4000.0</td>\n",
       "      <td>7770</td>\n",
       "      <td>46</td>\n",
       "      <td>1</td>\n",
       "    </tr>\n",
       "    <tr>\n",
       "      <th>1</th>\n",
       "      <td>ENE</td>\n",
       "      <td>2018</td>\n",
       "      <td>1</td>\n",
       "      <td>11</td>\n",
       "      <td>19069</td>\n",
       "      <td>18569</td>\n",
       "      <td>500</td>\n",
       "      <td>11284</td>\n",
       "      <td>0.0</td>\n",
       "      <td>0.0</td>\n",
       "      <td>0.0</td>\n",
       "      <td>0.0</td>\n",
       "      <td>0.0</td>\n",
       "      <td>45070</td>\n",
       "      <td>39</td>\n",
       "      <td>1</td>\n",
       "    </tr>\n",
       "    <tr>\n",
       "      <th>2</th>\n",
       "      <td>AGO</td>\n",
       "      <td>2017</td>\n",
       "      <td>8</td>\n",
       "      <td>8</td>\n",
       "      <td>33972</td>\n",
       "      <td>36690</td>\n",
       "      <td>-2718</td>\n",
       "      <td>11855</td>\n",
       "      <td>5250.0</td>\n",
       "      <td>0.0</td>\n",
       "      <td>0.0</td>\n",
       "      <td>0.0</td>\n",
       "      <td>5250.0</td>\n",
       "      <td>36947</td>\n",
       "      <td>0</td>\n",
       "      <td>1</td>\n",
       "    </tr>\n",
       "    <tr>\n",
       "      <th>3</th>\n",
       "      <td>ENE</td>\n",
       "      <td>2018</td>\n",
       "      <td>1</td>\n",
       "      <td>11</td>\n",
       "      <td>17353</td>\n",
       "      <td>16853</td>\n",
       "      <td>500</td>\n",
       "      <td>10548</td>\n",
       "      <td>500.0</td>\n",
       "      <td>0.0</td>\n",
       "      <td>0.0</td>\n",
       "      <td>-500.0</td>\n",
       "      <td>0.0</td>\n",
       "      <td>76120</td>\n",
       "      <td>0</td>\n",
       "      <td>1</td>\n",
       "    </tr>\n",
       "    <tr>\n",
       "      <th>4</th>\n",
       "      <td>AGO</td>\n",
       "      <td>2017</td>\n",
       "      <td>8</td>\n",
       "      <td>8</td>\n",
       "      <td>27013</td>\n",
       "      <td>26513</td>\n",
       "      <td>500</td>\n",
       "      <td>9976</td>\n",
       "      <td>0.0</td>\n",
       "      <td>0.0</td>\n",
       "      <td>0.0</td>\n",
       "      <td>0.0</td>\n",
       "      <td>0.0</td>\n",
       "      <td>54750</td>\n",
       "      <td>70</td>\n",
       "      <td>1</td>\n",
       "    </tr>\n",
       "  </tbody>\n",
       "</table>\n",
       "</div>"
      ],
      "text/plain": [
       "  nom_mes_renov   año  mes_renov  mes_reg  anterior  nueva  diferencia  \\\n",
       "0           AGO  2017          8        8     22103  21603         500   \n",
       "1           ENE  2018          1       11     19069  18569         500   \n",
       "2           AGO  2017          8        8     33972  36690       -2718   \n",
       "3           ENE  2018          1       11     17353  16853         500   \n",
       "4           AGO  2017          8        8     27013  26513         500   \n",
       "\n",
       "   vehiculo  estimacion  pagos  gastos  ajustes   saldo     cp  edad  renovo  \n",
       "0     11284      4000.0    0.0     0.0      0.0  4000.0   7770    46       1  \n",
       "1     11284         0.0    0.0     0.0      0.0     0.0  45070    39       1  \n",
       "2     11855      5250.0    0.0     0.0      0.0  5250.0  36947     0       1  \n",
       "3     10548       500.0    0.0     0.0   -500.0     0.0  76120     0       1  \n",
       "4      9976         0.0    0.0     0.0      0.0     0.0  54750    70       1  "
      ]
     },
     "execution_count": 2,
     "metadata": {},
     "output_type": "execute_result"
    }
   ],
   "source": [
    "df = pd.read_csv(\"BMW_PIPELINE_train.csv\", sep = \",\", encoding = \"ISO-8859-1\")\n",
    "df = df.fillna(0)\n",
    "df.head()"
   ]
  },
  {
   "cell_type": "code",
   "execution_count": 3,
   "metadata": {},
   "outputs": [],
   "source": [
    "gnb = GaussianNB()\n",
    "modelo=gnb.fit(df[['mes_renov','mes_reg','diferencia','vehiculo','estimacion','saldo','cp','edad']],df['renovo'])"
   ]
  },
  {
   "cell_type": "code",
   "execution_count": 4,
   "metadata": {},
   "outputs": [
    {
     "data": {
      "text/plain": [
       "array([[0.02306472, 0.97693528]])"
      ]
     },
     "execution_count": 4,
     "metadata": {},
     "output_type": "execute_result"
    }
   ],
   "source": [
    "modelo.predict_proba([[8,8,500,11284,4000,4000,7770,46]])"
   ]
  },
  {
   "cell_type": "code",
   "execution_count": 5,
   "metadata": {},
   "outputs": [
    {
     "data": {
      "text/plain": [
       "array([1], dtype=int64)"
      ]
     },
     "execution_count": 5,
     "metadata": {},
     "output_type": "execute_result"
    }
   ],
   "source": [
    "modelo.predict([[8,8,500,11284,4000,4000,7770,46]])"
   ]
  },
  {
   "cell_type": "code",
   "execution_count": null,
   "metadata": {},
   "outputs": [],
   "source": []
  }
 ],
 "metadata": {
  "kernelspec": {
   "display_name": "Python 3",
   "language": "python",
   "name": "python3"
  },
  "language_info": {
   "codemirror_mode": {
    "name": "ipython",
    "version": 3
   },
   "file_extension": ".py",
   "mimetype": "text/x-python",
   "name": "python",
   "nbconvert_exporter": "python",
   "pygments_lexer": "ipython3",
   "version": "3.7.3"
  }
 },
 "nbformat": 4,
 "nbformat_minor": 2
}
